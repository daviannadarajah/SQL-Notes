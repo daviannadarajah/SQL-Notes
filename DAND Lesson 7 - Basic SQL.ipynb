{
 "cells": [
  {
   "cell_type": "markdown",
   "metadata": {},
   "source": [
    "# Lesson 7: Basic SQL\n",
    "\n",
    "`ERD = Entity Relationship Diagram`\n",
    "\n",
    "This describes the relationship between tables in a database\n",
    "\n"
   ]
  },
  {
   "cell_type": "markdown",
   "metadata": {},
   "source": [
    "## Writing queries"
   ]
  },
  {
   "cell_type": "markdown",
   "metadata": {},
   "source": [
    "Every query you write will have at least two parts: `SELECT` and `FROM`. The `SELECT` statement is where you put the columns for which you would like to show the data. The `FROM` statement is where you put the tables from which you would like to pull data. For example:"
   ]
  },
  {
   "cell_type": "markdown",
   "metadata": {},
   "source": [
    "`SELECT *\n",
    "FROM orders;`\n",
    "\n",
    "`SELECT id, account_id, occurrred_at\n",
    "FROM orders;`"
   ]
  },
  {
   "cell_type": "markdown",
   "metadata": {},
   "source": [
    "It is considered best practice to put a __semicolon__ at the end of each SQL statement, which also allows multiple commands at once if your environment is able to show multiple results at once."
   ]
  },
  {
   "cell_type": "markdown",
   "metadata": {},
   "source": [
    "## `LIMIT` "
   ]
  },
  {
   "cell_type": "markdown",
   "metadata": {},
   "source": [
    "Use this to minimise the number of rows returned. Functions like `.head()` in pandas. For example:\n",
    "    \n",
    "`SELECT * \n",
    "FROM orders\n",
    "LIMIT 10;`\n",
    "\n",
    "This will only return 10 rows from the orders table."
   ]
  },
  {
   "cell_type": "markdown",
   "metadata": {},
   "source": [
    "## `ORDER BY`\n",
    "\n",
    "Allows you to order the rows in a column. By default this is in ascending order (`ASC`) which you do not need to specify. If you want descending order, you need to specify (`DESC`).\n",
    "\n",
    "The `ORDER BY` statement is always after the `SELECT` and `FROM` statements, but it is before the `LIMIT` statement. \n",
    "\n",
    "*Example:* Write a query to return the 10 earliest orders in the orders table. Include the id, occurred_at, and total_amt_usd.\n",
    "\n",
    "`SELECT id, occurred_at, total_amt_usd\n",
    "FROM orders\n",
    "ORDER BY occurred_at\n",
    "LIMIT 10;`\n",
    "\n",
    "*Example:* Write a query to return the top 5 orders in terms of largest total_amt_usd. Include the id, account_id, and total_amt_usd.\n",
    "\n",
    "`SELECT id, account_id, total_amt_usd\n",
    "FROM orders\n",
    "ORDER BY total_amt_usd DESC \n",
    "LIMIT 5;`\n",
    "\n",
    "*Example:* Write a query to return the bottom 20 orders in terms of least total. Include the id, account_id, and total.\n",
    "\n",
    "`SELECT id, account_id, total\n",
    "FROM orders\n",
    "ORDER BY total\n",
    "LIMIT 20;`\n"
   ]
  },
  {
   "cell_type": "markdown",
   "metadata": {},
   "source": [
    "## `ORDER BY` (multiple columns)\n",
    "\n",
    "The statement sorts according to columns listed from left first and those listed on the right after that. We still have the ability to flip the way we order using `DESC`."
   ]
  },
  {
   "cell_type": "markdown",
   "metadata": {},
   "source": [
    "*Example:* Write a query that returns the top 5 rows from orders ordered according to newest to oldest, but with the largest total_amt_usd for each date listed first for each date. \n",
    "\n",
    "`SELECT * \n",
    "FROM orders\n",
    "ORDER BY occurred_at DESC, total_amt_usd DESC\n",
    "LIMIT 5`\n",
    "\n",
    "*Example:* Write a query that returns the top 10 rows from orders ordered according to oldest to newest, but with the smallest total_amt_usd for each date listed first for each date. \n",
    "\n",
    "`SELECT * \n",
    "FROM orders\n",
    "ORDER BY occurred_at, total_amt_usd \n",
    "LIMIT 10`"
   ]
  },
  {
   "cell_type": "markdown",
   "metadata": {},
   "source": []
  }
 ],
 "metadata": {
  "kernelspec": {
   "display_name": "Python [default]",
   "language": "python",
   "name": "python3"
  },
  "language_info": {
   "codemirror_mode": {
    "name": "ipython",
    "version": 3
   },
   "file_extension": ".py",
   "mimetype": "text/x-python",
   "name": "python",
   "nbconvert_exporter": "python",
   "pygments_lexer": "ipython3",
   "version": "3.6.4"
  }
 },
 "nbformat": 4,
 "nbformat_minor": 2
}
