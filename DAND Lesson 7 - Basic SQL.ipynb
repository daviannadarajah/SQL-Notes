{
 "cells": [
  {
   "cell_type": "markdown",
   "metadata": {},
   "source": [
    "# Lesson 7: Basic SQL\n",
    "\n",
    "`ERD = Entity Relationship Diagram`\n",
    "\n",
    "This describes the relationship between tables in a database\n",
    "\n"
   ]
  },
  {
   "cell_type": "markdown",
   "metadata": {},
   "source": [
    "# Writing queries"
   ]
  },
  {
   "cell_type": "markdown",
   "metadata": {},
   "source": [
    "Every query you write will have at least two parts: `SELECT` and `FROM`. The `SELECT` statement is where you put the columns for which you would like to show the data. The `FROM` statement is where you put the tables from which you would like to pull data. For example:"
   ]
  },
  {
   "cell_type": "markdown",
   "metadata": {},
   "source": [
    "`SELECT *\n",
    "FROM orders;`\n",
    "\n",
    "`SELECT id, account_id, occurrred_at\n",
    "FROM orders;`"
   ]
  },
  {
   "cell_type": "markdown",
   "metadata": {},
   "source": [
    "It is considered best practice to put a __semicolon__ at the end of each SQL statement, which also allows multiple commands at once if your environment is able to show multiple results at once."
   ]
  },
  {
   "cell_type": "markdown",
   "metadata": {},
   "source": [
    "## `LIMIT` "
   ]
  },
  {
   "cell_type": "markdown",
   "metadata": {},
   "source": [
    "Use this to minimise the number of rows returned. Functions like `.head()` in pandas. For example:\n",
    "    \n",
    "`SELECT * \n",
    "FROM orders\n",
    "LIMIT 10;`\n",
    "\n",
    "This will only return 10 rows from the orders table."
   ]
  },
  {
   "cell_type": "markdown",
   "metadata": {},
   "source": [
    "## `ORDER BY`\n",
    "\n",
    "Allows you to order the rows in a column. By default this is in ascending order (`ASC`) which you do not need to specify. If you want descending order, you need to specify (`DESC`).\n",
    "\n",
    "The `ORDER BY` statement is always after the `SELECT` and `FROM` statements, but it is before the `LIMIT` statement. \n",
    "\n",
    "*Example:* Write a query to return the 10 earliest orders in the orders table. Include the id, occurred_at, and total_amt_usd.\n",
    "\n",
    "`SELECT id, occurred_at, total_amt_usd\n",
    "FROM orders\n",
    "ORDER BY occurred_at\n",
    "LIMIT 10;`\n",
    "\n",
    "*Example:* Write a query to return the top 5 orders in terms of largest total_amt_usd. Include the id, account_id, and total_amt_usd.\n",
    "\n",
    "`SELECT id, account_id, total_amt_usd\n",
    "FROM orders\n",
    "ORDER BY total_amt_usd DESC \n",
    "LIMIT 5;`\n",
    "\n",
    "*Example:* Write a query to return the bottom 20 orders in terms of least total. Include the id, account_id, and total.\n",
    "\n",
    "`SELECT id, account_id, total\n",
    "FROM orders\n",
    "ORDER BY total\n",
    "LIMIT 20;`\n"
   ]
  },
  {
   "cell_type": "markdown",
   "metadata": {},
   "source": [
    "## `ORDER BY` (multiple columns)\n",
    "\n",
    "The statement sorts according to columns listed from left first and those listed on the right after that. We still have the ability to flip the way we order using `DESC`."
   ]
  },
  {
   "cell_type": "markdown",
   "metadata": {},
   "source": [
    "*Example:* Write a query that returns the top 5 rows from orders ordered according to newest to oldest, but with the largest total_amt_usd for each date listed first for each date. \n",
    "\n",
    "`SELECT * \n",
    "FROM orders\n",
    "ORDER BY occurred_at DESC, total_amt_usd DESC\n",
    "LIMIT 5`\n",
    "\n",
    "*Example:* Write a query that returns the top 10 rows from orders ordered according to oldest to newest, but with the smallest total_amt_usd for each date listed first for each date. \n",
    "\n",
    "`SELECT * \n",
    "FROM orders\n",
    "ORDER BY occurred_at, total_amt_usd \n",
    "LIMIT 10`"
   ]
  },
  {
   "cell_type": "markdown",
   "metadata": {},
   "source": [
    "## `WHERE (numeric)`\n",
    "\n",
    "This is just like an if statement. It let's you filter data. Common symbols to use: `>`, `<`, `>=`, `<=`, `=`, `!=`. \n",
    "\n",
    "*Example:* Pull the first 5 rows and all columns from the orders table that have a dollar amount of gloss_amt_usd greater than or equal to 1000.\n",
    "\n",
    "`SELECT *\n",
    "FROM orders\n",
    "WHERE gloss_amt_usd >= 1000\n",
    "LIMIT 5`\n",
    "\n",
    "*Example:* Pull the first 10 rows and all columns from the orders table that have a total_amt_usd less than 500.\n",
    "\n",
    "`SELECT *\n",
    "FROM orders\n",
    "WHERE gloss_amt_usd < 500\n",
    "LIMIT 10`\n",
    "\n",
    "\n",
    "\n",
    "\n"
   ]
  },
  {
   "cell_type": "markdown",
   "metadata": {},
   "source": [
    "## `WHERE (non-numeric / strings)`"
   ]
  },
  {
   "cell_type": "markdown",
   "metadata": {},
   "source": [
    "The `WHERE` statement can also be used with non-numerical data. We can use the = and != operators here. You also need to be sure to use **single quotes** (just be careful if you have quotes in the original text) with the text data. Commonly when we are using `WHERE` with non-numeric data fields, we use the `LIKE`, `NOT`, or `IN` operators. "
   ]
  },
  {
   "cell_type": "markdown",
   "metadata": {},
   "source": [
    "*Example:* Filter the accounts table to include the company name, website, and the primary point of contact (primary_poc) for Exxon Mobil in the accounts table.\n",
    "\n",
    "`SELECT name, website, primary_poc\n",
    "FROM accounts\n",
    "WHERE name = 'Exxon Mobil'`\n",
    "\n",
    "\n",
    "    "
   ]
  },
  {
   "cell_type": "markdown",
   "metadata": {},
   "source": [
    "## `AS` (for Derived Columns)"
   ]
  },
  {
   "cell_type": "markdown",
   "metadata": {},
   "source": [
    "Creating a new column that is a combination of two existing ones is called a Derived column. \n",
    "\n",
    "*Example:* Create a column that divides the standard_amt_usd by the standard_qty to find the unit price for standard paper for each order. Limit the results to the first 10 orders, and include the id and account_id fields. \n",
    "\n",
    "`SELECT id, account_id, standard_amt_usd/standard_qty AS unit_price\n",
    "FROM orders\n",
    "LIMIT 10;`\n",
    "\n",
    "\n",
    "*Example:* Write a query that finds the percentage of revenue that comes from poster paper for each order. You will need to use only the columns that end with _usd. (Try to do this without using the total column). Include the id and account_id fields.\n",
    "\n",
    "`SELECT id, account_id, \n",
    "       poster_amt_usd/(standard_amt_usd + gloss_amt_usd + poster_amt_usd) AS post_per\n",
    "FROM orders;`\n",
    "\n",
    "    "
   ]
  },
  {
   "cell_type": "markdown",
   "metadata": {},
   "source": [
    "## `LIKE`"
   ]
  },
  {
   "cell_type": "markdown",
   "metadata": {},
   "source": [
    "This allows you to perform operations similar to using `WHERE` and `=`, but for cases when you might not know exactly what you are looking for. You will normally use `LIKE` with a `WHERE` clause. It is also frequently used with **`%`** which is a **wildcard** (* for Excel).\n",
    "\n",
    "*Example:* All the companies whose names start with 'C'. \n",
    "\n",
    "`SELECT name \n",
    "FROM accounts\n",
    "WHERE name LIKE 'C%';`\n",
    "\n",
    "*Example:* All companies whose names contain the string 'one' somewhere in the name.\n",
    "\n",
    "`SELECT name \n",
    "FROM accounts\n",
    "WHERE name LIKE '%one%';`\n",
    "\n",
    "*Example:* All companies whose names end with 's'. \n",
    "\n",
    "`SELECT name \n",
    "FROM accounts\n",
    "WHERE name LIKE '%s';`\n"
   ]
  },
  {
   "cell_type": "markdown",
   "metadata": {},
   "source": [
    "## `IN`"
   ]
  },
  {
   "cell_type": "markdown",
   "metadata": {},
   "source": [
    "This allows you to perform operations similar to using `WHERE` and `=`, but for more than one condition. You can use it on text and numeric columns. You can use `OR` but `IN` is much cleaner. **Note:** In most SQL environments, you can use single or double quotation marks - and you may NEED to use double quotation marks if you have an apostrophe within the text you are attempting to pull. Example Macy's in our work space would be 'Macy''s'.\n",
    "\n",
    "*Example*: Use the accounts table to find the account name, primary_poc, and sales_rep_id for Walmart, Target, and Nordstrom.\n",
    "\n",
    "`SELECT name, primary_poc, sales_rep_id\n",
    "FROM accounts\n",
    "WHERE name IN ('Walmart', 'Target', 'Nordstrom');`\n",
    "\n",
    "*Example*: Use the web_events table to find all information regarding individuals who were contacted via the channel of organic or adwords.\n",
    "\n",
    "`SELECT *\n",
    "FROM web_events\n",
    "WHERE channel IN ('organic', 'adwords');`\n"
   ]
  },
  {
   "cell_type": "markdown",
   "metadata": {},
   "source": [
    "## `NOT`"
   ]
  },
  {
   "cell_type": "markdown",
   "metadata": {},
   "source": [
    "This is used with `IN` and `LIKE` to select all of the rows `NOT LIKE` or `NOT IN` a certain condition. \n",
    "\n",
    "*Example:* Use the accounts table to find the account name, primary poc, and sales rep id for all stores except Walmart, Target, and Nordstrom.\n",
    "\n",
    "`SELECT name, primary_poc, sales_rep_id\n",
    "FROM accounts\n",
    "WHERE name NOT IN ('Walmart', 'Target', 'Nordstrom')`\n",
    "\n",
    "*Example:* Use the web_events table to find all information regarding individuals who were contacted via any method except using organic or adwords methods.\n",
    "\n",
    "`SELECT *\n",
    "FROM web_events\n",
    "WHERE channel NOT IN ('organic', 'adwords')`\n",
    "\n",
    "*Example*: Use the accounts table to find:\n",
    "\n",
    "All the companies whose names do not start with 'C'.\n",
    "\n",
    "`SELECT *\n",
    "FROM accounts\n",
    "WHERE name NOT LIKE 'C%'`\n",
    "\n",
    "All companies whose names do not contain the string 'one' somewhere in the name.\n",
    "\n",
    "`SELECT *\n",
    "FROM accounts\n",
    "WHERE name NOT LIKE '%one%'`\n",
    "\n",
    "\n",
    "All companies whose names do not end with 's'.\n",
    "\n",
    "`SELECT *\n",
    "FROM accounts\n",
    "WHERE name NOT LIKE '%s'`\n",
    "\n"
   ]
  },
  {
   "cell_type": "markdown",
   "metadata": {},
   "source": [
    "## `AND & BETWEEN`"
   ]
  },
  {
   "cell_type": "markdown",
   "metadata": {},
   "source": [
    "These allow you to combine operations where all combined conditions must be true. It is recommended to use `BETWEEN`, particularly if you're working with data from the same column instead of using logical operators. \n",
    "\n",
    "*Example*: Write a query that returns all the orders where the standard_qty is over 1000, the poster_qty is 0, and the gloss_qty is 0.\n",
    "\n",
    "`SELECT * \n",
    "FROM orders\n",
    "WHERE standard_qty > 1000 AND poster_qty = 0 AND gloss_qty =0;`\n",
    "\n",
    "*Example*: Using the accounts table find all the companies whose names do not start with 'C' and end with 's'.\n",
    "\n",
    "`SELECT name \n",
    "FROM accounts\n",
    "WHERE name NOT LIKE 'C%' AND name LIKE '%s';`\n",
    "\n",
    "*Example*: Use the web_events table to find all information regarding individuals who were contacted via organic or adwords and started their account at any point in 2016 sorted from newest to oldest.\n",
    "\n",
    "`SELECT *\n",
    "FROM web_events\n",
    "WHERE channel IN ('organic', 'adwords') AND occurred_at BETWEEN '2016-01-01' AND '2017-01-01'\n",
    "ORDER BY occurred_at DESC;`\n",
    "\n",
    "You will notice that using BETWEEN is tricky for dates! While BETWEEN is generally inclusive of endpoints, it assumes the time is at 00:00:00 (i.e. midnight) for dates. This is the reason why we set the right-side endpoint of the period at '2017-01-01'.\n",
    "\n"
   ]
  },
  {
   "cell_type": "markdown",
   "metadata": {},
   "source": [
    "## `OR`"
   ]
  },
  {
   "cell_type": "markdown",
   "metadata": {},
   "source": [
    "This allows you to combine operations where at least one of the combined conditions must be true. his operator works with all of the operations we have seen so far including arithmetic operators (+, *, -, /), `LIKE`, `IN`, `NOT`, `AND`, and `BETWEEN` logic can all be linked together using the OR operator.\n",
    "\n",
    "*Example*: Find list of orders ids where either gloss_qty or poster_qty is greater than 4000. Only include the id field in the resulting table.\n",
    "\n",
    "`SELECT id\n",
    "FROM orders\n",
    "WHERE gloss_qty > 4000 OR poster_qty > 4000;`\n",
    "\n",
    "*Example*: Write a query that returns a list of orders where the standard_qty is zero and either the gloss_qty or poster_qty is over 1000.\n",
    "\n",
    "`SELECT *\n",
    "FROM orders\n",
    "WHERE standard_qty = 0 AND (gloss_qty > 1000 OR poster_qty > 1000);`\n",
    "\n",
    "*Example*: Find all the company names that start with a 'C' or 'W', and the primary contact contains 'ana' or 'Ana', but it doesn't contain 'eana'.\n",
    "\n",
    "`SELECT *\n",
    "FROM accounts\n",
    "WHERE (name LIKE 'C%' OR name LIKE 'W%') AND ((primary_poc LIKE '%ana%' OR primary_poc LIKE '%Ana%') AND (primary_poc NOT LIKE '%eana%'));`\n",
    "\n"
   ]
  },
  {
   "cell_type": "markdown",
   "metadata": {},
   "source": []
  },
  {
   "cell_type": "code",
   "execution_count": null,
   "metadata": {},
   "outputs": [],
   "source": [
    "aa"
   ]
  }
 ],
 "metadata": {
  "kernelspec": {
   "display_name": "Python [default]",
   "language": "python",
   "name": "python3"
  },
  "language_info": {
   "codemirror_mode": {
    "name": "ipython",
    "version": 3
   },
   "file_extension": ".py",
   "mimetype": "text/x-python",
   "name": "python",
   "nbconvert_exporter": "python",
   "pygments_lexer": "ipython3",
   "version": "3.6.4"
  }
 },
 "nbformat": 4,
 "nbformat_minor": 2
}
