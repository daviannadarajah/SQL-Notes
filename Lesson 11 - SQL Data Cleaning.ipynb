{
 "cells": [
  {
   "cell_type": "markdown",
   "metadata": {},
   "source": [
    "# Lesson 11 - SQL Data Cleaning"
   ]
  },
  {
   "cell_type": "markdown",
   "metadata": {},
   "source": [
    "## `LEFT`, `RIGHT`, `LENGTH`\n",
    "\n",
    "<img src=\"../SQL/ERD DAND.jpg\" width=\"600\" height=\"400\">\n",
    "\n",
    "This operates exactly as LEFT, RIGHT and LEN in Excel. You can extract characters from a string using those functions. \n",
    "\n",
    "**Examples:**\n",
    "\n",
    "In the accounts table, there is a column holding the website for each company. The last three digits specify what type of web address they are using. A list of extensions (and pricing) is provided here. Pull these extensions and provide how many of each website type exist in the accounts table.\n",
    "\n",
    "`SELECT RIGHT(website, 3) AS domain, COUNT(*)\n",
    "FROM accounts\n",
    "GROUP BY domain\n",
    "ORDER BY 2 DESC`\n",
    "\n",
    "\n",
    "There is much debate about how much the name (or even the first letter of a company name) matters. Use the accounts table to pull the first letter of each company name to see the distribution of company names that begin with each letter (or number). \n",
    "\n",
    "`SELECT LEFT(UPPER(name), 1) AS first_letter, COUNT(*)\n",
    "FROM accounts\n",
    "GROUP BY first_letter\n",
    "ORDER BY 2 DESC`\n",
    "\n",
    "\n",
    "Use the accounts table and a CASE statement to create two groups: one group of company names that start with a number and a second group of those company names that start with a letter. What proportion of company names start with a letter?\n",
    "\n",
    "`There are 350 company names that start with a letter and 1 that starts with a number. This gives a ratio of 350/351 that are company names that start with a letter or 99.7%.\n",
    "SELECT SUM(num) nums, SUM(letter) letters\n",
    "FROM (SELECT name, CASE WHEN LEFT(UPPER(name), 1) IN ('0','1','2','3','4','5','6','7','8','9') \n",
    "                       THEN 1 ELSE 0 END AS num, \n",
    "         CASE WHEN LEFT(UPPER(name), 1) IN ('0','1','2','3','4','5','6','7','8','9') \n",
    "                       THEN 0 ELSE 1 END AS letter\n",
    "      FROM accounts) t1;`\n",
    "      \n",
    "      \n",
    "Consider vowels as a, e, i, o, and u. What proportion of company names start with a vowel, and what percent start with anything else?\n",
    "\n",
    "`There are 80 company names that start with a vowel and 271 that start with other characters. Therefore 80/351 are vowels or 22.8%. Therefore, 77.2% of company names do not start with vowels.\n",
    "SELECT SUM(vowels) vowels, SUM(other) other\n",
    "FROM (SELECT name, CASE WHEN LEFT(UPPER(name), 1) IN ('A','E','I','O','U') \n",
    "                        THEN 1 ELSE 0 END AS vowels, \n",
    "          CASE WHEN LEFT(UPPER(name), 1) IN ('A','E','I','O','U') \n",
    "                       THEN 0 ELSE 1 END AS other\n",
    "         FROM accounts) t1;`\n",
    "\n"
   ]
  },
  {
   "cell_type": "markdown",
   "metadata": {},
   "source": [
    "## `POSITION`\n",
    "\n",
    "This takes a character and a column, and provides the index where that character is for each row. The index of the first position is 1 in SQL. This is like using the SEARCH function in Excel and determining where it occurs in a string. Here's an example of looking for where a comma starts in the string city_state: `POSITION(',' IN city_state)`. **This is case sensitive.**\n",
    "\n",
    "## `STRPOS`\n",
    "\n",
    "`STRPOS` provides the same result as `POSITION` but the syntax for achieving those results is a bit different as shown here: `STRPOS(city_state, ',')`. **This is case sensitive.**\n",
    "\n",
    "## `UPPER` and `LOWER`\n",
    "\n",
    "If you want to pull an index regardless of case, you can change the letters to all uppercase or lower case with `UPPER` or `LOWER`.\n",
    "\n"
   ]
  },
  {
   "cell_type": "markdown",
   "metadata": {},
   "source": [
    "**Examples:**\n",
    "    \n",
    "Use the accounts table to create first and last name columns that hold the first and last names for the primary_poc. \n",
    "\n",
    "`SELECT LEFT(primary_poc, POSITION(' ' IN primary_poc)-1) AS first_name, RIGHT(primary_poc,(LENGTH(primary_poc)- STRPOS(primary_poc, ' '))) AS last_name, primary_poc\n",
    "FROM accounts`\n",
    "\n",
    "Now see if you can do the same thing for every rep name in the sales_reps table. Again provide first and last name columns.\n",
    "\n",
    "`SELECT LEFT(name, POSITION(' ' IN name)-1) AS first_name, RIGHT(name,(LENGTH(name)- STRPOS(name, ' '))) AS last_name\n",
    "FROM sales_reps`\n"
   ]
  },
  {
   "cell_type": "code",
   "execution_count": null,
   "metadata": {},
   "outputs": [],
   "source": []
  }
 ],
 "metadata": {
  "kernelspec": {
   "display_name": "Python [default]",
   "language": "python",
   "name": "python3"
  },
  "language_info": {
   "codemirror_mode": {
    "name": "ipython",
    "version": 3
   },
   "file_extension": ".py",
   "mimetype": "text/x-python",
   "name": "python",
   "nbconvert_exporter": "python",
   "pygments_lexer": "ipython3",
   "version": "3.6.4"
  }
 },
 "nbformat": 4,
 "nbformat_minor": 2
}
