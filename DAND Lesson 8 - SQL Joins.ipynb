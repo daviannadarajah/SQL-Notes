{
 "cells": [
  {
   "cell_type": "markdown",
   "metadata": {},
   "source": [
    "# DAND Lesson 8 - SQL Joins\n",
    "\n",
    "## Database Normalisation\n",
    "\n",
    "This concept is about how data will be stored and organised. There are essentially three aspects to it:\n",
    "1. Are the tables storing logical groupings of data?\n",
    "2. Can I make changes in a single location, rather than in many tables for the same information?\n",
    "3. Can I access and manipulate data quickly and efficiently?\n",
    "\n",
    "\n"
   ]
  },
  {
   "cell_type": "markdown",
   "metadata": {},
   "source": [
    "## Introduction to Joins - `JOIN` and `ON`\n",
    "\n",
    "This is just like a VLOOKUP. Need to use a common field or primary key. They key words are:\n",
    "    `JOIN` - which tables are involved\n",
    "    `ON` - sets primary key.\n",
    "\n",
    "*Example from orders and accounts tables if you wanted to pull all information from both tables:* \n",
    "\n",
    "`SELECT orders.*, accounts.*\n",
    "FROM orders\n",
    "JOIN accounts\n",
    "ON orders.account_id = accounts.id;`"
   ]
  },
  {
   "cell_type": "markdown",
   "metadata": {},
   "source": [
    "If we want to pull only the account name and the dates in which that account placed an order, but none of the other columns, we can do this with the following query:\n",
    "\n",
    "`SELECT accounts.name, orders.occurred_at\n",
    "FROM orders\n",
    "JOIN accounts\n",
    "ON orders.account_id = accounts.id;`\n",
    "\n",
    "**Note the `table.column` structure of the syntax in the SELECT statement.**"
   ]
  },
  {
   "cell_type": "markdown",
   "metadata": {},
   "source": [
    "Alternatively, the below query pulls all the columns from both the accounts and orders table:\n",
    "\n",
    "`SELECT *\n",
    "FROM orders\n",
    "JOIN accounts\n",
    "ON orders.account_id = accounts.id;`\n"
   ]
  },
  {
   "cell_type": "markdown",
   "metadata": {},
   "source": [
    "*Example:* Try pulling standard_qty, gloss_qty, and poster_qty from the orders table, and the website and the primary_poc from the accounts table.\n",
    "\n",
    "`SELECT orders.standard_qty, orders.gloss_qty, \n",
    "       orders.poster_qty,  accounts.website, \n",
    "       accounts.primary_poc\n",
    "FROM orders\n",
    "JOIN accounts\n",
    "ON orders.account_id = accounts.id`\n",
    "\n"
   ]
  },
  {
   "cell_type": "markdown",
   "metadata": {},
   "source": [
    "### Primary Key\n",
    "\n",
    "A primary key normally exists in every table as the fist column in a table. It is a column that has a unique value for every row. \n",
    "\n",
    "### Foreign Key\n",
    "\n",
    "A foreign key is when we see a primary key in another table. \n",
    "\n",
    "### Entitly Relationship Diagram (ERD)\n",
    "\n",
    "You should create an Entity Relatioship Diagram (ERD) to map the primary and foreign key relationships between the tables:\n",
    "\n",
    "\n",
    "<img src=\"../SQL/ERD DAND.jpg\" width=\"600\" height=\"400\">\n",
    "\n",
    "\n",
    "\n",
    "\n",
    "\n",
    "\n",
    "\n",
    "\n",
    "\n",
    "    "
   ]
  },
  {
   "cell_type": "markdown",
   "metadata": {},
   "source": [
    "### Primary Key - Foreign Key Link\n",
    "\n",
    "<img src=\"../SQL/DAND_PK_FK_Example.png\" width=\"600\" height=\"400\">\n",
    "\n",
    "In the above image you can see that:\n",
    "\n",
    "1. The **region_id** is the foreign key.\n",
    "2. The region_id is **linked** to id - this is the primary-foreign key link that connects these two tables.\n",
    "3. The crow's foot shows that the **FK** can actually appear in many rows in the **sales_reps** table.\n",
    "4. While the single line is telling us that the **PK** shows that id appears only once per row in this table.\n",
    "\n",
    "\n",
    "\n"
   ]
  },
  {
   "cell_type": "markdown",
   "metadata": {},
   "source": [
    "### `JOIN` More than Two Tables (Multiples Joins)\n",
    "\n",
    "<img src=\"../SQL/Join_three_tables.png\" width=\"600\" height=\"400\">\n",
    "\n",
    "The same logic applies for joining multiple tables with specific columns in each:\n",
    "\n",
    "`SELECT web_events.channel, accounts.name, orders.total\n",
    "FROM web_events\n",
    "JOIN accounts\n",
    "ON web_events.account_id = accounts.id\n",
    "JOIN orders\n",
    "ON accounts.id = orders.account_id`\n",
    "\n",
    "Note that the order that you use the ON staement for the tables does not matter. You could for the last line also do `ON orders.account_id = accounts.id`"
   ]
  },
  {
   "cell_type": "markdown",
   "metadata": {},
   "source": [
    "## Using an Alias in `JOIN`\n",
    "\n",
    "Aliases allows you to rename tables so you don't have to keep typing out the whole name. You can conveniently refer to each table by their alias to save time:\n",
    "\n",
    "`SELECT o.*, a.*\n",
    "FROM orders o  <--- Here is where you rename the tabe as an alias\n",
    "JOIN accounts a <--- Here is where you rename the table as an alias\n",
    "ON o.account_id = a.id`\n",
    "\n"
   ]
  },
  {
   "cell_type": "markdown",
   "metadata": {},
   "source": [
    "## Using an Alias with Arithmatic Operators (not using `AS`)\n",
    "\n",
    "Example:\n",
    "\n",
    "`FROM tablename AS t1\n",
    "JOIN tablename2 AS t2\n",
    "SELECT col1 + col2 AS total, col3`\n",
    "\n",
    "You can also write the above without the `AS` statement, which is frequently done in practice:\n",
    "\n",
    "`FROM tablename t1\n",
    "JOIN tablename2 t2\n",
    "SELECT col1 + col2 total, col3`\n",
    "\n",
    "\n"
   ]
  },
  {
   "cell_type": "markdown",
   "metadata": {},
   "source": [
    "## Using an Alias for Columns in Resulting Table\n",
    "\n",
    "While aliasing tables is the most common use case, it can also be used to alias the columns selected to have the resulting table reflect a more readable name.\n",
    "\n",
    "Example:\n",
    "\n",
    "`SELECT t1.column1 aliasname, t2.column2 aliasname2\n",
    "FROM tablename AS t1\n",
    "JOIN tablename2 AS t2`\n",
    "\n",
    "Thie alias name fields will be what shows up in the returned table instead of `t1.column` and `t2.column2`\n",
    "\n",
    "<img src=\"../SQL/alias-rename_column_names.png\" width=\"300\" height=\"200\">\n",
    "\n"
   ]
  },
  {
   "cell_type": "markdown",
   "metadata": {},
   "source": [
    "## `JOIN` Examples with `WHERE`, `ORDER BY`, `AS`, Derived Columns, Multiple Tables, and Aliases\n",
    "\n",
    "<img src=\"../SQL/ERD DAND.jpg\" width=\"600\" height=\"400\">\n",
    "\n",
    "*Example:* Provide a table for all web_events associated with account name of Walmart. There should be three columns. Be sure to include the primary_poc, time of the event, and the channel for each event. Additionally, you might choose to add a fourth column to assure only Walmart events were chosen. \n",
    "\n",
    "`SELECT a.primary_poc, w.occurred_at, w.channel, a.name\n",
    "FROM web_events w\n",
    "JOIN accounts a\n",
    "ON w.account_id = a.id\n",
    "WHERE a.name = 'Walmart';`\n",
    "\n",
    "*Example:* Provide a table that provides the region for each sales_rep along with their associated accounts. Your final table should include three columns: the region name, the sales rep name, and the account name. Sort the accounts alphabetically (A-Z) according to account name. \n",
    "\n",
    "`SELECT r.name region_name, s.name sales_rep_name, a.name account_name\n",
    "FROM region r\n",
    "JOIN sales_reps s\n",
    "ON r.id = s.region_id\n",
    "JOIN accounts a\n",
    "ON s.id = a.sales_rep_id\n",
    "ORDER BY a.name ASC`\n",
    "\n",
    "\n",
    "*Example:* Provide the name for each region for every order, as well as the account name and the unit price they paid (total_amt_usd/total) for the order. Your final table should have 3 columns: region name, account name, and unit price. A few accounts have 0 for total, so I divided by (total + 0.01) to assure not dividing by zero.\n",
    "\n",
    "`SELECT r.name region, a.name account, o.total_amt_usd/(o.total+0.01) unit_price  \n",
    "FROM accounts a\n",
    "JOIN sales_reps s\n",
    "ON s.id = a.sales_rep_id\n",
    "JOIN orders o\n",
    "ON a.id = o.account_id\n",
    "JOIN region r\n",
    "ON r.id = s.region_id`"
   ]
  },
  {
   "cell_type": "markdown",
   "metadata": {},
   "source": [
    "## Types of Joins\n",
    "\n",
    "\n",
    "<img src=\"../SQL/types_of_joins.png\" width=\"600\" height=\"400\">\n",
    "\n",
    "### `INNER JOIN`\n",
    "\n",
    "This is where two tables of data intersect each other in venn diagram. It will return data that exists in both tables (ie. a match) based on the PK and FK. Examples of this are all of the types of joins explained above, and you only need to use `JOIN`.\n",
    "\n",
    "\n",
    "### `LEFT JOIN`\n",
    "\n",
    "<img src=\"../SQL/Left_join.png\" width=\"600\" height=\"400\">\n",
    "\n",
    "The table written in the `FROM` statement is considered the left table. The table in the `JOIN` is the right table. Then add the word `LEFT` to join the tables. This is another way of saying keep all data from the LEFT table and include any matched data from the RIGHT table.\n",
    "\n",
    "If there is not matching information in the `JOIN`ed table, then you will have columns with empty cells. These empty cells introduce a new data type called `NULL`.\n",
    "\n",
    "The syntax `LEFT OUTER JOIN` or `RIGHT OUTER JOIN` are the exact same commands as the `LEFT JOIN` and `RIGHT JOIN`.\n",
    "\n",
    "**RIGHT JOIN** - This is the opposite of a `LEFT JOIN`. However, since they are interachangeable (you can swap the tables to be joined so it can become a `LEFT JOIN`),  you only need to worry about doing `LEFT JOINs`.\n",
    "\n",
    "**FULL OUTER JOIN** - All data from both tables - both matching and not matching. This is also the same as `OUTER JOIN`."
   ]
  },
  {
   "cell_type": "markdown",
   "metadata": {},
   "source": [
    "## LEFT JOINS and Filtering using `WHERE` and `AND`\n",
    "\n",
    "A simple rule to remember this is that, when the database executes a `JOIN` query, it executes the join and everything in the `ON` clause first. Think of this as building the new result set. That result set is then filtered using the `WHERE` clause.\n",
    "\n",
    "<img src=\"../SQL/Left_join_with_WHERE.png\" width=\"800\" height=\"500\">\n",
    "\n",
    "The fact that the above example is a left join is important. Because inner joins only return the rows for which the two tables match, moving this filter to the ON clause of an inner join will produce the same result as keeping it in the `WHERE` clause. If you put the filter on the `ON` clause with an `AND` on a `LEFT JOIN`, then it will filter the data first and process the new `JOIN`ed table. It does not filter AFTER the `JOIN`.\n",
    "\n",
    "<img src=\"../SQL/Left_join_with_AND.png\" width=\"800\" height=\"500\">"
   ]
  },
  {
   "cell_type": "code",
   "execution_count": null,
   "metadata": {},
   "outputs": [],
   "source": []
  }
 ],
 "metadata": {
  "kernelspec": {
   "display_name": "Python [default]",
   "language": "python",
   "name": "python3"
  },
  "language_info": {
   "codemirror_mode": {
    "name": "ipython",
    "version": 3
   },
   "file_extension": ".py",
   "mimetype": "text/x-python",
   "name": "python",
   "nbconvert_exporter": "python",
   "pygments_lexer": "ipython3",
   "version": "3.6.4"
  }
 },
 "nbformat": 4,
 "nbformat_minor": 2
}
