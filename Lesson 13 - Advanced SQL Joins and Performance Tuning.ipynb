{
 "cells": [
  {
   "cell_type": "code",
   "execution_count": null,
   "metadata": {},
   "outputs": [],
   "source": []
  },
  {
   "cell_type": "markdown",
   "metadata": {},
   "source": [
    "# Lesson 13 - Advanced SQL Joins and Performance Tuning\n",
    "\n",
    "\n",
    "## `FULL OUTER JOIN` OR `FULL JOIN` \n",
    "\n",
    "<img src=\"../SQL/ERD DAND.jpg\" width=\"600\" height=\"400\">\n",
    "\n",
    "Say you're an analyst at Parch & Posey and you want to see:\n",
    "\n",
    "- each account who has a sales rep and each sales rep that has an account (all of the columns in these returned rows will be full)\n",
    "- but also each account that does not have a sales rep and each sales rep that does not have an account (some of the columns in these returned rows will be empty)\n",
    "\n",
    "This type of question is rare, but `FULL OUTER JOIN` is perfect for it. In the following SQL Explorer, write a query with `FULL OUTER JOIN` to fit the above described Parch & Posey scenario (selecting all of the columns in both of the relevant tables, accounts and sales_reps) then answer the subsequent multiple choice quiz.\n",
    "\n",
    "`SELECT *\n",
    "FROM accounts\n",
    "FULL JOIN sales_reps ON accounts.sales_rep_id = sales_reps.id\n",
    "WHERE accounts.sales_rep_id IS NULL OR sales_reps.id IS NULL`\n"
   ]
  },
  {
   "cell_type": "markdown",
   "metadata": {},
   "source": [
    "## Inequality JOINs\n",
    "\n",
    "If you recall from earlier lessons on joins, the join clause is evaluated before the where clause -- filtering in the join clause will eliminate rows before they are joined, while filtering in the `WHERE` clause will leave those rows in and produce some nulls.\n",
    "\n",
    "**Example: In the following SQL Explorer, write a query that left joins the accounts table and the sales_reps tables on each sale rep's ID number and joins it using the < comparison operator on accounts.primary_poc and sales_reps.name, like so: `accounts.primary_poc < sales_reps.name`. The query results should be a table with three columns: the account name (e.g. Johnson Controls), the primary contact name (e.g. Cammy Sosnowski), and the sales representative's name (e.g. Samuel Racine). Then answer the subsequent multiple choice question.**\n",
    "\n",
    "`SELECT a.name account, a.primary_poc, s.name sales_rep\n",
    "FROM accounts a\n",
    "LEFT JOIN sales_reps s\n",
    "ON a.sales_rep_id = s.id\n",
    "AND a.primary_poc < s.name`\n",
    "\n",
    "Note that the primary point of contact's full name comes *before* the sales representative's name alphabetically.\n",
    "\n",
    "More information on string comparisons in SQL: https://stackoverflow.com/questions/26080187/sql-string-comparison-greater-than-and-less-than-operators/26080240#26080240\n",
    "\n"
   ]
  },
  {
   "cell_type": "markdown",
   "metadata": {},
   "source": [
    "## `SELF JOINs`\n",
    "\n",
    "One of the most common use cases for self JOINs is in cases where two events occurred, one after another. As you may have noticed in the previous video, using inequalities in conjunction with self JOINs is common.\n",
    "\n",
    "**Example: A query of web orders being processed within one day of another with the same account_id.**\n",
    "\n",
    "`SELECT we1.id AS we_id,\n",
    "       we1.account_id AS we1_account_id,\n",
    "       we1.occurred_at AS we1_occurred_at,\n",
    "       we1.channel AS we1_channel,\n",
    "       we2.id AS we2_id,\n",
    "       we2.account_id AS we2_account_id,\n",
    "       we2.occurred_at AS we2_occurred_at,\n",
    "       we2.channel AS we2_channel\n",
    "  FROM web_events we1 \n",
    " LEFT JOIN web_events we2\n",
    "   ON we1.account_id = we2.account_id\n",
    "  AND we1.occurred_at > we2.occurred_at\n",
    "  AND we1.occurred_at <= we2.occurred_at + INTERVAL '1 day'\n",
    "ORDER BY we1.account_id, we2.occurred_at`\n",
    "\n",
    "Information on how to use `INTERVAL` is here: https://www.postgresql.org/docs/8.2/static/functions-datetime.html\n",
    "\n"
   ]
  },
  {
   "cell_type": "code",
   "execution_count": null,
   "metadata": {},
   "outputs": [],
   "source": []
  }
 ],
 "metadata": {
  "kernelspec": {
   "display_name": "Python [default]",
   "language": "python",
   "name": "python3"
  },
  "language_info": {
   "codemirror_mode": {
    "name": "ipython",
    "version": 3
   },
   "file_extension": ".py",
   "mimetype": "text/x-python",
   "name": "python",
   "nbconvert_exporter": "python",
   "pygments_lexer": "ipython3",
   "version": "3.6.4"
  }
 },
 "nbformat": 4,
 "nbformat_minor": 2
}
